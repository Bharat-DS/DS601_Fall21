{
  "nbformat": 4,
  "nbformat_minor": 0,
  "metadata": {
    "colab": {
      "name": "HW-01.ipynb",
      "provenance": [],
      "collapsed_sections": [],
      "authorship_tag": "ABX9TyMjmTJV053LeBWBf0vFDNCd",
      "include_colab_link": true
    },
    "kernelspec": {
      "name": "python3",
      "display_name": "Python 3"
    },
    "language_info": {
      "name": "python"
    }
  },
  "cells": [
    {
      "cell_type": "markdown",
      "metadata": {
        "id": "view-in-github",
        "colab_type": "text"
      },
      "source": [
        "<a href=\"https://colab.research.google.com/github/Bharat-DS/DS601_Fall21/blob/main/HW_01.ipynb\" target=\"_parent\"><img src=\"https://colab.research.google.com/assets/colab-badge.svg\" alt=\"Open In Colab\"/></a>"
      ]
    },
    {
      "cell_type": "markdown",
      "metadata": {
        "id": "OoyEGpciktX8"
      },
      "source": [
        "Question-1\n",
        "\n",
        "Write a Python function to return a list of all the numbers from 1 to n which are divisible by 5. n will be given as an argument to your function."
      ]
    },
    {
      "cell_type": "code",
      "metadata": {
        "colab": {
          "base_uri": "https://localhost:8080/"
        },
        "id": "kxjfk0gVkn4_",
        "outputId": "c56fc851-9b5b-4515-944c-d20c3fef9b85"
      },
      "source": [
        "def divisible_five(given_number):\n",
        "    for i in range(1,given_number+1):\n",
        "        if i%5==0:\n",
        "            print(i)\n",
        "        \n",
        "    my_list = []\n",
        "    return my_list\n",
        "\n",
        "divisible_five(121)"
      ],
      "execution_count": null,
      "outputs": [
        {
          "output_type": "stream",
          "name": "stdout",
          "text": [
            "5\n",
            "10\n",
            "15\n",
            "20\n",
            "25\n",
            "30\n",
            "35\n",
            "40\n",
            "45\n",
            "50\n",
            "55\n",
            "60\n",
            "65\n",
            "70\n",
            "75\n",
            "80\n",
            "85\n",
            "90\n",
            "95\n",
            "100\n",
            "105\n",
            "110\n",
            "115\n",
            "120\n"
          ]
        },
        {
          "output_type": "execute_result",
          "data": {
            "text/plain": [
              "[]"
            ]
          },
          "metadata": {},
          "execution_count": 1
        }
      ]
    },
    {
      "cell_type": "markdown",
      "metadata": {
        "id": "m-rU6JyAlS4N"
      },
      "source": [
        ""
      ]
    },
    {
      "cell_type": "markdown",
      "metadata": {
        "id": "j74w7KzzpxwQ"
      },
      "source": [
        "Question-2\n",
        "\n",
        "Write a function that returns the sum of all the multiples of 3 or 7 below a given number.\n",
        "\n"
      ]
    },
    {
      "cell_type": "code",
      "metadata": {
        "id": "-JshAZQmkrHx",
        "colab": {
          "base_uri": "https://localhost:8080/"
        },
        "outputId": "6dcb88a8-f6db-408c-bbbc-684fe7618714"
      },
      "source": [
        "def my_function(given_number):\n",
        "    n3=int(given_number/3)\n",
        "    n7=int(given_number/7)\n",
        "    s=n3/2*(2*3+(n3-1)*3)+ n7/2*(2*7+(n7-1)*7)\n",
        "    \n",
        "\n",
        "    return(s)\n",
        "\n",
        "\n",
        "\n",
        "my_function(10000)"
      ],
      "execution_count": 2,
      "outputs": [
        {
          "output_type": "execute_result",
          "data": {
            "text/plain": [
              "23810475.0"
            ]
          },
          "metadata": {},
          "execution_count": 2
        }
      ]
    },
    {
      "cell_type": "markdown",
      "metadata": {
        "id": "uu3SMS8eqirR"
      },
      "source": [
        "Question-3 (Shell & Magic Commands)\n",
        "\n",
        "Question-3-a\n",
        "\n",
        "Below print current working directory."
      ]
    },
    {
      "cell_type": "code",
      "metadata": {
        "id": "48rVPXGRkrCr",
        "colab": {
          "base_uri": "https://localhost:8080/",
          "height": 35
        },
        "outputId": "1204652a-9ac8-43c1-efe9-36367b48792c"
      },
      "source": [
        "pwd"
      ],
      "execution_count": 7,
      "outputs": [
        {
          "output_type": "execute_result",
          "data": {
            "application/vnd.google.colaboratory.intrinsic+json": {
              "type": "string"
            },
            "text/plain": [
              "'/content'"
            ]
          },
          "metadata": {},
          "execution_count": 7
        }
      ]
    },
    {
      "cell_type": "markdown",
      "metadata": {
        "id": "MiRW6LqNzSYk"
      },
      "source": [
        "Question-3-b\n",
        "\n",
        "Below list all the files and folders in the current working directory."
      ]
    },
    {
      "cell_type": "code",
      "metadata": {
        "id": "EmAOIxnfkq9Q",
        "colab": {
          "base_uri": "https://localhost:8080/"
        },
        "outputId": "1cf7da89-efdb-4b54-e62c-535f689a68e4"
      },
      "source": [
        "ls"
      ],
      "execution_count": 8,
      "outputs": [
        {
          "output_type": "stream",
          "name": "stdout",
          "text": [
            "\u001b[0m\u001b[01;34mnew\u001b[0m/  \u001b[01;34msample_data\u001b[0m/\n"
          ]
        }
      ]
    },
    {
      "cell_type": "markdown",
      "metadata": {
        "id": "q-khuHBX04TW"
      },
      "source": [
        "\n",
        "Question 3-c\n",
        "\n",
        "Create a new directory within the current working directory 'data'"
      ]
    },
    {
      "cell_type": "code",
      "metadata": {
        "id": "gM_cMWxXkqzt"
      },
      "source": [
        "mkdir data"
      ],
      "execution_count": 1,
      "outputs": []
    },
    {
      "cell_type": "markdown",
      "metadata": {
        "id": "3e_ugTUfclFt"
      },
      "source": [
        "Question-3-d\n",
        "\n",
        "Change the working directory to 'data' print current working directory again to make sure that your answer is correct."
      ]
    },
    {
      "cell_type": "code",
      "metadata": {
        "colab": {
          "base_uri": "https://localhost:8080/"
        },
        "id": "ROvQYF423uHD",
        "outputId": "fe4c8fce-fdc4-4336-9281-9e9b23c9bab0"
      },
      "source": [
        "cd data"
      ],
      "execution_count": 2,
      "outputs": [
        {
          "output_type": "stream",
          "name": "stdout",
          "text": [
            "/content/data\n"
          ]
        }
      ]
    },
    {
      "cell_type": "code",
      "metadata": {
        "colab": {
          "base_uri": "https://localhost:8080/",
          "height": 35
        },
        "id": "y6jLPnY93uJ8",
        "outputId": "74556eba-ff3a-4f48-a9a9-dbd1a45ef835"
      },
      "source": [
        "pwd"
      ],
      "execution_count": 3,
      "outputs": [
        {
          "output_type": "execute_result",
          "data": {
            "application/vnd.google.colaboratory.intrinsic+json": {
              "type": "string"
            },
            "text/plain": [
              "'/content/data'"
            ]
          },
          "metadata": {},
          "execution_count": 3
        }
      ]
    },
    {
      "cell_type": "code",
      "metadata": {
        "colab": {
          "base_uri": "https://localhost:8080/"
        },
        "id": "scYwbWRG3uMx",
        "outputId": "350333d8-f84d-466f-8a46-e908e3cb3a45"
      },
      "source": [
        "cd .."
      ],
      "execution_count": 5,
      "outputs": [
        {
          "output_type": "stream",
          "name": "stdout",
          "text": [
            "/content\n"
          ]
        }
      ]
    },
    {
      "cell_type": "code",
      "metadata": {
        "id": "XTmTD-dC3uPm"
      },
      "source": [
        "mkdir my_directory"
      ],
      "execution_count": 6,
      "outputs": []
    },
    {
      "cell_type": "markdown",
      "metadata": {
        "id": "P3P83WctdZoL"
      },
      "source": [
        "Question-3-e\n",
        "\n",
        "Create a new file under 'content/my_directory' and name it 'my_script.py'"
      ]
    },
    {
      "cell_type": "code",
      "metadata": {
        "colab": {
          "base_uri": "https://localhost:8080/"
        },
        "id": "9T2VQemP3uSF",
        "outputId": "07e20210-dcfc-475f-f4fc-a79c4e61a3ae"
      },
      "source": [
        "cat my_script.py"
      ],
      "execution_count": 9,
      "outputs": [
        {
          "output_type": "stream",
          "name": "stdout",
          "text": [
            "cat: my_script.py: No such file or directory\n"
          ]
        }
      ]
    },
    {
      "cell_type": "markdown",
      "metadata": {
        "id": "daiq_-uhdh1e"
      },
      "source": [
        "Question-3-f\n",
        "\n",
        "Create 'my_script.py' so that it prints 'Your First Name-Your Last Name' and run this scripy in the cell below."
      ]
    },
    {
      "cell_type": "code",
      "metadata": {
        "id": "dAoV3n-k3uUy"
      },
      "source": [
        "f = open(\"my_script.py\", \"w\")\n",
        "f.write(\"print('Bharat Chandra-Mokkapati')\")\n",
        "f.close()"
      ],
      "execution_count": 10,
      "outputs": []
    },
    {
      "cell_type": "code",
      "metadata": {
        "colab": {
          "base_uri": "https://localhost:8080/"
        },
        "id": "3QmK7TbT3uYY",
        "outputId": "6aa8facb-cf27-4285-af2c-dbba19018a47"
      },
      "source": [
        "!python my_script.py"
      ],
      "execution_count": 16,
      "outputs": [
        {
          "output_type": "stream",
          "name": "stdout",
          "text": [
            "Bharat Chandra-Mokkapati\n"
          ]
        }
      ]
    },
    {
      "cell_type": "code",
      "metadata": {
        "id": "LbkE2PoakqwR"
      },
      "source": [
        "Question-4\n",
        "\n",
        "Commit & push to your repo"
      ],
      "execution_count": null,
      "outputs": []
    },
    {
      "cell_type": "code",
      "metadata": {
        "id": "D1mfZ9DXkqtT"
      },
      "source": [
        "I have clicked on file and then save a copy in github."
      ],
      "execution_count": null,
      "outputs": []
    }
  ]
}